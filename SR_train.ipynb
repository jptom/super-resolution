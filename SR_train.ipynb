{
  "nbformat": 4,
  "nbformat_minor": 0,
  "metadata": {
    "colab": {
      "name": "SR_train.ipynb",
      "provenance": [],
      "authorship_tag": "ABX9TyOKfirSsUtSUMsX6dMwNoER",
      "include_colab_link": true
    },
    "kernelspec": {
      "name": "python3",
      "display_name": "Python 3"
    },
    "accelerator": "GPU"
  },
  "cells": [
    {
      "cell_type": "markdown",
      "metadata": {
        "id": "view-in-github",
        "colab_type": "text"
      },
      "source": [
        "<a href=\"https://colab.research.google.com/github/jptom/super-resolution/blob/master/SR_train.ipynb\" target=\"_parent\"><img src=\"https://colab.research.google.com/assets/colab-badge.svg\" alt=\"Open In Colab\"/></a>"
      ]
    },
    {
      "cell_type": "code",
      "metadata": {
        "colab": {
          "base_uri": "https://localhost:8080/"
        },
        "id": "n-J-IBzfWUQs",
        "outputId": "2af4d6df-e45b-475b-8920-92792f64eada"
      },
      "source": [
        "%cd /content\r\n",
        "!git clone https://github.com/jptom/super-resolution.git"
      ],
      "execution_count": null,
      "outputs": [
        {
          "output_type": "stream",
          "text": [
            "/content\n",
            "Cloning into 'super-resolution'...\n",
            "remote: Enumerating objects: 30, done.\u001b[K\n",
            "remote: Counting objects: 100% (30/30), done.\u001b[K\n",
            "remote: Compressing objects: 100% (17/17), done.\u001b[K\n",
            "remote: Total 30 (delta 13), reused 26 (delta 12), pack-reused 0\u001b[K\n",
            "Unpacking objects: 100% (30/30), done.\n"
          ],
          "name": "stdout"
        }
      ]
    },
    {
      "cell_type": "code",
      "metadata": {
        "colab": {
          "base_uri": "https://localhost:8080/"
        },
        "id": "KQ_ExOroXHVh",
        "outputId": "7bc3a325-9a6f-4dcd-f4d9-93e16efd4312"
      },
      "source": [
        "from google.colab import drive\n",
        "drive.mount('/content/gdrive')"
      ],
      "execution_count": null,
      "outputs": [
        {
          "output_type": "stream",
          "text": [
            "Mounted at /content/gdrive\n"
          ],
          "name": "stdout"
        }
      ]
    },
    {
      "cell_type": "code",
      "metadata": {
        "id": "O5tg02GNXii7",
        "colab": {
          "base_uri": "https://localhost:8080/"
        },
        "outputId": "105050bd-71d9-4496-b136-e9323fa29071"
      },
      "source": [
        "%cd super-resolution/\r\n",
        "!cp /content/gdrive/MyDrive/T0828/HW4/training_hr_images .. -r\r\n",
        "!cp /content/gdrive/MyDrive/T0828/HW4/testing_lr_images .. -r\r\n",
        "!cp /content/gdrive/MyDrive/T0828/HW4/Set14 .. -r"
      ],
      "execution_count": null,
      "outputs": [
        {
          "output_type": "stream",
          "text": [
            "/content/super-resolution\n"
          ],
          "name": "stdout"
        }
      ]
    },
    {
      "cell_type": "code",
      "metadata": {
        "id": "Auu3qKujn0fC",
        "colab": {
          "base_uri": "https://localhost:8080/"
        },
        "outputId": "67d5c478-f4d5-4c15-d993-cd58851755ce"
      },
      "source": [
        "!python train.py  --model drcn --data /content/training_hr_images/ "
      ],
      "execution_count": null,
      "outputs": [
        {
          "output_type": "stream",
          "text": [
            "2020-12-19 02:41:58.428744: I tensorflow/stream_executor/platform/default/dso_loader.cc:49] Successfully opened dynamic library libcudart.so.10.1\n",
            "create model\n",
            "2020-12-19 02:42:00.051376: I tensorflow/compiler/jit/xla_cpu_device.cc:41] Not creating XLA devices, tf_xla_enable_xla_devices not set\n",
            "2020-12-19 02:42:00.052699: I tensorflow/stream_executor/platform/default/dso_loader.cc:49] Successfully opened dynamic library libcuda.so.1\n",
            "2020-12-19 02:42:00.110203: I tensorflow/stream_executor/cuda/cuda_gpu_executor.cc:941] successful NUMA node read from SysFS had negative value (-1), but there must be at least one NUMA node, so returning NUMA node zero\n",
            "2020-12-19 02:42:00.110844: I tensorflow/core/common_runtime/gpu/gpu_device.cc:1720] Found device 0 with properties: \n",
            "pciBusID: 0000:00:04.0 name: Tesla T4 computeCapability: 7.5\n",
            "coreClock: 1.59GHz coreCount: 40 deviceMemorySize: 14.73GiB deviceMemoryBandwidth: 298.08GiB/s\n",
            "2020-12-19 02:42:00.110896: I tensorflow/stream_executor/platform/default/dso_loader.cc:49] Successfully opened dynamic library libcudart.so.10.1\n",
            "2020-12-19 02:42:00.363195: I tensorflow/stream_executor/platform/default/dso_loader.cc:49] Successfully opened dynamic library libcublas.so.10\n",
            "2020-12-19 02:42:00.363285: I tensorflow/stream_executor/platform/default/dso_loader.cc:49] Successfully opened dynamic library libcublasLt.so.10\n",
            "2020-12-19 02:42:00.486916: I tensorflow/stream_executor/platform/default/dso_loader.cc:49] Successfully opened dynamic library libcufft.so.10\n",
            "2020-12-19 02:42:00.525480: I tensorflow/stream_executor/platform/default/dso_loader.cc:49] Successfully opened dynamic library libcurand.so.10\n",
            "2020-12-19 02:42:00.792329: I tensorflow/stream_executor/platform/default/dso_loader.cc:49] Successfully opened dynamic library libcusolver.so.10\n",
            "2020-12-19 02:42:00.836997: I tensorflow/stream_executor/platform/default/dso_loader.cc:49] Successfully opened dynamic library libcusparse.so.10\n",
            "2020-12-19 02:42:01.364616: I tensorflow/stream_executor/platform/default/dso_loader.cc:49] Successfully opened dynamic library libcudnn.so.7\n",
            "2020-12-19 02:42:01.364897: I tensorflow/stream_executor/cuda/cuda_gpu_executor.cc:941] successful NUMA node read from SysFS had negative value (-1), but there must be at least one NUMA node, so returning NUMA node zero\n",
            "2020-12-19 02:42:01.365551: I tensorflow/stream_executor/cuda/cuda_gpu_executor.cc:941] successful NUMA node read from SysFS had negative value (-1), but there must be at least one NUMA node, so returning NUMA node zero\n",
            "2020-12-19 02:42:01.370034: I tensorflow/core/common_runtime/gpu/gpu_device.cc:1862] Adding visible gpu devices: 0\n",
            "2020-12-19 02:42:01.370566: I tensorflow/compiler/jit/xla_gpu_device.cc:99] Not creating XLA devices, tf_xla_enable_xla_devices not set\n",
            "2020-12-19 02:42:01.370687: I tensorflow/stream_executor/cuda/cuda_gpu_executor.cc:941] successful NUMA node read from SysFS had negative value (-1), but there must be at least one NUMA node, so returning NUMA node zero\n",
            "2020-12-19 02:42:01.371259: I tensorflow/core/common_runtime/gpu/gpu_device.cc:1720] Found device 0 with properties: \n",
            "pciBusID: 0000:00:04.0 name: Tesla T4 computeCapability: 7.5\n",
            "coreClock: 1.59GHz coreCount: 40 deviceMemorySize: 14.73GiB deviceMemoryBandwidth: 298.08GiB/s\n",
            "2020-12-19 02:42:01.371320: I tensorflow/stream_executor/platform/default/dso_loader.cc:49] Successfully opened dynamic library libcudart.so.10.1\n",
            "2020-12-19 02:42:01.371367: I tensorflow/stream_executor/platform/default/dso_loader.cc:49] Successfully opened dynamic library libcublas.so.10\n",
            "2020-12-19 02:42:01.371397: I tensorflow/stream_executor/platform/default/dso_loader.cc:49] Successfully opened dynamic library libcublasLt.so.10\n",
            "2020-12-19 02:42:01.371424: I tensorflow/stream_executor/platform/default/dso_loader.cc:49] Successfully opened dynamic library libcufft.so.10\n",
            "2020-12-19 02:42:01.371448: I tensorflow/stream_executor/platform/default/dso_loader.cc:49] Successfully opened dynamic library libcurand.so.10\n",
            "2020-12-19 02:42:01.371474: I tensorflow/stream_executor/platform/default/dso_loader.cc:49] Successfully opened dynamic library libcusolver.so.10\n",
            "2020-12-19 02:42:01.371500: I tensorflow/stream_executor/platform/default/dso_loader.cc:49] Successfully opened dynamic library libcusparse.so.10\n",
            "2020-12-19 02:42:01.371527: I tensorflow/stream_executor/platform/default/dso_loader.cc:49] Successfully opened dynamic library libcudnn.so.7\n",
            "2020-12-19 02:42:01.371618: I tensorflow/stream_executor/cuda/cuda_gpu_executor.cc:941] successful NUMA node read from SysFS had negative value (-1), but there must be at least one NUMA node, so returning NUMA node zero\n",
            "2020-12-19 02:42:01.372269: I tensorflow/stream_executor/cuda/cuda_gpu_executor.cc:941] successful NUMA node read from SysFS had negative value (-1), but there must be at least one NUMA node, so returning NUMA node zero\n",
            "2020-12-19 02:42:01.372776: I tensorflow/core/common_runtime/gpu/gpu_device.cc:1862] Adding visible gpu devices: 0\n",
            "2020-12-19 02:42:01.376330: I tensorflow/stream_executor/platform/default/dso_loader.cc:49] Successfully opened dynamic library libcudart.so.10.1\n",
            "2020-12-19 02:42:05.449966: I tensorflow/core/common_runtime/gpu/gpu_device.cc:1261] Device interconnect StreamExecutor with strength 1 edge matrix:\n",
            "2020-12-19 02:42:05.450017: I tensorflow/core/common_runtime/gpu/gpu_device.cc:1267]      0 \n",
            "2020-12-19 02:42:05.450036: I tensorflow/core/common_runtime/gpu/gpu_device.cc:1280] 0:   N \n",
            "2020-12-19 02:42:05.453809: I tensorflow/stream_executor/cuda/cuda_gpu_executor.cc:941] successful NUMA node read from SysFS had negative value (-1), but there must be at least one NUMA node, so returning NUMA node zero\n",
            "2020-12-19 02:42:05.454463: I tensorflow/stream_executor/cuda/cuda_gpu_executor.cc:941] successful NUMA node read from SysFS had negative value (-1), but there must be at least one NUMA node, so returning NUMA node zero\n",
            "2020-12-19 02:42:05.455120: I tensorflow/stream_executor/cuda/cuda_gpu_executor.cc:941] successful NUMA node read from SysFS had negative value (-1), but there must be at least one NUMA node, so returning NUMA node zero\n",
            "2020-12-19 02:42:05.455620: W tensorflow/core/common_runtime/gpu/gpu_bfc_allocator.cc:39] Overriding allow_growth setting because the TF_FORCE_GPU_ALLOW_GROWTH environment variable is set. Original config value was 0.\n",
            "2020-12-19 02:42:05.455699: I tensorflow/core/common_runtime/gpu/gpu_device.cc:1406] Created TensorFlow device (/job:localhost/replica:0/task:0/device:GPU:0 with 13960 MB memory) -> physical GPU (device: 0, name: Tesla T4, pci bus id: 0000:00:04.0, compute capability: 7.5)\n",
            "Model: \"model\"\n",
            "__________________________________________________________________________________________________\n",
            "Layer (type)                    Output Shape         Param #     Connected to                     \n",
            "==================================================================================================\n",
            "input_1 (InputLayer)            [(None, None, None,  0                                            \n",
            "__________________________________________________________________________________________________\n",
            "conv2d (Conv2D)                 (None, None, None, 2 7168        input_1[0][0]                    \n",
            "__________________________________________________________________________________________________\n",
            "conv2d_1 (Conv2D)               (None, None, None, 2 590080      conv2d[0][0]                     \n",
            "__________________________________________________________________________________________________\n",
            "conv2d_2 (Conv2D)               (None, None, None, 2 590080      conv2d_1[0][0]                   \n",
            "                                                                 conv2d_2[0][0]                   \n",
            "                                                                 conv2d_2[1][0]                   \n",
            "                                                                 conv2d_2[2][0]                   \n",
            "                                                                 conv2d_2[3][0]                   \n",
            "                                                                 conv2d_2[4][0]                   \n",
            "                                                                 conv2d_2[5][0]                   \n",
            "                                                                 conv2d_2[6][0]                   \n",
            "                                                                 conv2d_2[7][0]                   \n",
            "                                                                 conv2d_2[8][0]                   \n",
            "                                                                 conv2d_2[9][0]                   \n",
            "                                                                 conv2d_2[10][0]                  \n",
            "                                                                 conv2d_2[11][0]                  \n",
            "                                                                 conv2d_2[12][0]                  \n",
            "                                                                 conv2d_2[13][0]                  \n",
            "                                                                 conv2d_2[14][0]                  \n",
            "__________________________________________________________________________________________________\n",
            "conv2d_3 (Conv2D)               (None, None, None, 3 6915        conv2d_2[0][0]                   \n",
            "                                                                 conv2d_2[1][0]                   \n",
            "                                                                 conv2d_2[2][0]                   \n",
            "                                                                 conv2d_2[3][0]                   \n",
            "                                                                 conv2d_2[4][0]                   \n",
            "                                                                 conv2d_2[5][0]                   \n",
            "                                                                 conv2d_2[6][0]                   \n",
            "                                                                 conv2d_2[7][0]                   \n",
            "                                                                 conv2d_2[8][0]                   \n",
            "                                                                 conv2d_2[9][0]                   \n",
            "                                                                 conv2d_2[10][0]                  \n",
            "                                                                 conv2d_2[11][0]                  \n",
            "                                                                 conv2d_2[12][0]                  \n",
            "                                                                 conv2d_2[13][0]                  \n",
            "                                                                 conv2d_2[14][0]                  \n",
            "                                                                 conv2d_2[15][0]                  \n",
            "__________________________________________________________________________________________________\n",
            "tf.__operators__.add (TFOpLambd (None, None, None, 3 0           conv2d_3[0][0]                   \n",
            "                                                                 input_1[0][0]                    \n",
            "__________________________________________________________________________________________________\n",
            "tf.__operators__.add_1 (TFOpLam (None, None, None, 3 0           conv2d_3[1][0]                   \n",
            "                                                                 input_1[0][0]                    \n",
            "__________________________________________________________________________________________________\n",
            "tf.__operators__.add_2 (TFOpLam (None, None, None, 3 0           conv2d_3[2][0]                   \n",
            "                                                                 input_1[0][0]                    \n",
            "__________________________________________________________________________________________________\n",
            "tf.__operators__.add_3 (TFOpLam (None, None, None, 3 0           conv2d_3[3][0]                   \n",
            "                                                                 input_1[0][0]                    \n",
            "__________________________________________________________________________________________________\n",
            "tf.__operators__.add_4 (TFOpLam (None, None, None, 3 0           conv2d_3[4][0]                   \n",
            "                                                                 input_1[0][0]                    \n",
            "__________________________________________________________________________________________________\n",
            "tf.__operators__.add_5 (TFOpLam (None, None, None, 3 0           conv2d_3[5][0]                   \n",
            "                                                                 input_1[0][0]                    \n",
            "__________________________________________________________________________________________________\n",
            "tf.__operators__.add_6 (TFOpLam (None, None, None, 3 0           conv2d_3[6][0]                   \n",
            "                                                                 input_1[0][0]                    \n",
            "__________________________________________________________________________________________________\n",
            "tf.__operators__.add_7 (TFOpLam (None, None, None, 3 0           conv2d_3[7][0]                   \n",
            "                                                                 input_1[0][0]                    \n",
            "__________________________________________________________________________________________________\n",
            "tf.__operators__.add_8 (TFOpLam (None, None, None, 3 0           conv2d_3[8][0]                   \n",
            "                                                                 input_1[0][0]                    \n",
            "__________________________________________________________________________________________________\n",
            "tf.__operators__.add_9 (TFOpLam (None, None, None, 3 0           conv2d_3[9][0]                   \n",
            "                                                                 input_1[0][0]                    \n",
            "__________________________________________________________________________________________________\n",
            "tf.__operators__.add_10 (TFOpLa (None, None, None, 3 0           conv2d_3[10][0]                  \n",
            "                                                                 input_1[0][0]                    \n",
            "__________________________________________________________________________________________________\n",
            "tf.__operators__.add_11 (TFOpLa (None, None, None, 3 0           conv2d_3[11][0]                  \n",
            "                                                                 input_1[0][0]                    \n",
            "__________________________________________________________________________________________________\n",
            "tf.__operators__.add_12 (TFOpLa (None, None, None, 3 0           conv2d_3[12][0]                  \n",
            "                                                                 input_1[0][0]                    \n",
            "__________________________________________________________________________________________________\n",
            "tf.__operators__.add_13 (TFOpLa (None, None, None, 3 0           conv2d_3[13][0]                  \n",
            "                                                                 input_1[0][0]                    \n",
            "__________________________________________________________________________________________________\n",
            "tf.__operators__.add_14 (TFOpLa (None, None, None, 3 0           conv2d_3[14][0]                  \n",
            "                                                                 input_1[0][0]                    \n",
            "__________________________________________________________________________________________________\n",
            "tf.__operators__.add_15 (TFOpLa (None, None, None, 3 0           conv2d_3[15][0]                  \n",
            "                                                                 input_1[0][0]                    \n",
            "__________________________________________________________________________________________________\n",
            "scale_layer (ScaleLayer)        (None, None, None, 3 1           tf.__operators__.add[0][0]       \n",
            "__________________________________________________________________________________________________\n",
            "scale_layer_1 (ScaleLayer)      (None, None, None, 3 1           tf.__operators__.add_1[0][0]     \n",
            "__________________________________________________________________________________________________\n",
            "scale_layer_2 (ScaleLayer)      (None, None, None, 3 1           tf.__operators__.add_2[0][0]     \n",
            "__________________________________________________________________________________________________\n",
            "scale_layer_3 (ScaleLayer)      (None, None, None, 3 1           tf.__operators__.add_3[0][0]     \n",
            "__________________________________________________________________________________________________\n",
            "scale_layer_4 (ScaleLayer)      (None, None, None, 3 1           tf.__operators__.add_4[0][0]     \n",
            "__________________________________________________________________________________________________\n",
            "scale_layer_5 (ScaleLayer)      (None, None, None, 3 1           tf.__operators__.add_5[0][0]     \n",
            "__________________________________________________________________________________________________\n",
            "scale_layer_6 (ScaleLayer)      (None, None, None, 3 1           tf.__operators__.add_6[0][0]     \n",
            "__________________________________________________________________________________________________\n",
            "scale_layer_7 (ScaleLayer)      (None, None, None, 3 1           tf.__operators__.add_7[0][0]     \n",
            "__________________________________________________________________________________________________\n",
            "scale_layer_8 (ScaleLayer)      (None, None, None, 3 1           tf.__operators__.add_8[0][0]     \n",
            "__________________________________________________________________________________________________\n",
            "scale_layer_9 (ScaleLayer)      (None, None, None, 3 1           tf.__operators__.add_9[0][0]     \n",
            "__________________________________________________________________________________________________\n",
            "scale_layer_10 (ScaleLayer)     (None, None, None, 3 1           tf.__operators__.add_10[0][0]    \n",
            "__________________________________________________________________________________________________\n",
            "scale_layer_11 (ScaleLayer)     (None, None, None, 3 1           tf.__operators__.add_11[0][0]    \n",
            "__________________________________________________________________________________________________\n",
            "scale_layer_12 (ScaleLayer)     (None, None, None, 3 1           tf.__operators__.add_12[0][0]    \n",
            "__________________________________________________________________________________________________\n",
            "scale_layer_13 (ScaleLayer)     (None, None, None, 3 1           tf.__operators__.add_13[0][0]    \n",
            "__________________________________________________________________________________________________\n",
            "scale_layer_14 (ScaleLayer)     (None, None, None, 3 1           tf.__operators__.add_14[0][0]    \n",
            "__________________________________________________________________________________________________\n",
            "scale_layer_15 (ScaleLayer)     (None, None, None, 3 1           tf.__operators__.add_15[0][0]    \n",
            "__________________________________________________________________________________________________\n",
            "add (Add)                       (None, None, None, 3 0           scale_layer[0][0]                \n",
            "                                                                 scale_layer_1[0][0]              \n",
            "                                                                 scale_layer_2[0][0]              \n",
            "                                                                 scale_layer_3[0][0]              \n",
            "                                                                 scale_layer_4[0][0]              \n",
            "                                                                 scale_layer_5[0][0]              \n",
            "                                                                 scale_layer_6[0][0]              \n",
            "                                                                 scale_layer_7[0][0]              \n",
            "                                                                 scale_layer_8[0][0]              \n",
            "                                                                 scale_layer_9[0][0]              \n",
            "                                                                 scale_layer_10[0][0]             \n",
            "                                                                 scale_layer_11[0][0]             \n",
            "                                                                 scale_layer_12[0][0]             \n",
            "                                                                 scale_layer_13[0][0]             \n",
            "                                                                 scale_layer_14[0][0]             \n",
            "                                                                 scale_layer_15[0][0]             \n",
            "==================================================================================================\n",
            "Total params: 1,194,259\n",
            "Trainable params: 1,194,259\n",
            "Non-trainable params: 0\n",
            "__________________________________________________________________________________________________\n",
            "start compling\n",
            "start training\n",
            "2020-12-19 02:42:07.174773: I tensorflow/compiler/mlir/mlir_graph_optimization_pass.cc:116] None of the MLIR optimization passes are enabled (registered 2)\n",
            "2020-12-19 02:42:07.177491: I tensorflow/core/platform/profile_utils/cpu_utils.cc:112] CPU Frequency: 2200000000 Hz\n",
            "Epoch 1/5\n",
            "2020-12-19 02:42:08.990397: I tensorflow/stream_executor/platform/default/dso_loader.cc:49] Successfully opened dynamic library libcudnn.so.7\n",
            "2020-12-19 02:42:14.109520: I tensorflow/stream_executor/platform/default/dso_loader.cc:49] Successfully opened dynamic library libcublas.so.10\n",
            "400/400 [==============================] - 861s 2s/step - loss: 0.0102 - psnr: 24.9366\n",
            "Epoch 2/5\n",
            "400/400 [==============================] - 843s 2s/step - loss: 0.0032 - psnr: 25.0710\n",
            "Epoch 3/5\n",
            "400/400 [==============================] - 842s 2s/step - loss: 0.0032 - psnr: 24.9858\n",
            "Epoch 4/5\n",
            "400/400 [==============================] - 842s 2s/step - loss: 0.0032 - psnr: 25.0033\n",
            "Epoch 5/5\n",
            "400/400 [==============================] - 842s 2s/step - loss: 0.0032 - psnr: 25.0432\n",
            "save weights\n"
          ],
          "name": "stdout"
        }
      ]
    },
    {
      "cell_type": "code",
      "metadata": {
        "id": "5fmLv7vt2-jT"
      },
      "source": [
        "viplab"
      ],
      "execution_count": null,
      "outputs": []
    }
  ]
}